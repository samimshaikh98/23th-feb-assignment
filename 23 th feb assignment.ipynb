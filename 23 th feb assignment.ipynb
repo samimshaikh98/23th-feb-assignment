{
 "cells": [
  {
   "cell_type": "markdown",
   "id": "12ca1d1d-6b6e-4c0a-a6b0-2e1c1e6b2b84",
   "metadata": {},
   "source": [
    "Q1. Create a Pandas Series that contains the following data: 4, 8, 15, 16, 23, and 42. Then, print the series."
   ]
  },
  {
   "cell_type": "code",
   "execution_count": 1,
   "id": "8407608d-04c2-4a2f-a0af-af32312275f2",
   "metadata": {},
   "outputs": [
    {
     "name": "stdout",
     "output_type": "stream",
     "text": [
      "0     4\n",
      "1     8\n",
      "2    15\n",
      "3    16\n",
      "4    23\n",
      "5    42\n",
      "dtype: int64\n"
     ]
    }
   ],
   "source": [
    "import pandas as pd\n",
    "\n",
    "data = [4, 8, 15, 16, 23, 42]\n",
    "series = pd.Series(data)\n",
    "print(series)\n"
   ]
  },
  {
   "cell_type": "markdown",
   "id": "32c78d00-21f1-4fb1-8eea-5d64d6ec1ff7",
   "metadata": {},
   "source": [
    "Q2. Create a variable of list type containing 10 elements in it, and apply pandas.Series function on the\n",
    "variable print it."
   ]
  },
  {
   "cell_type": "code",
   "execution_count": 2,
   "id": "79f1cdc7-f459-4c9f-bd07-32b0f76ffd9a",
   "metadata": {},
   "outputs": [
    {
     "name": "stdout",
     "output_type": "stream",
     "text": [
      "0     1\n",
      "1     2\n",
      "2     3\n",
      "3     4\n",
      "4     5\n",
      "5     6\n",
      "6     7\n",
      "7     8\n",
      "8     9\n",
      "9    10\n",
      "dtype: int64\n"
     ]
    }
   ],
   "source": [
    "import pandas as pd\n",
    "\n",
    "my_list = [1, 2, 3, 4, 5, 6, 7, 8, 9, 10]\n",
    "my_series = pd.Series(my_list)\n",
    "print(my_series)\n"
   ]
  },
  {
   "cell_type": "markdown",
   "id": "3da9da59-1638-4cd7-b59c-7a7906b98d3b",
   "metadata": {},
   "source": [
    "Q3. Create a Pandas DataFrame that contains the following data:"
   ]
  },
  {
   "cell_type": "code",
   "execution_count": 3,
   "id": "14429c5a-3d6e-46d4-a6aa-ca99ecdd3aeb",
   "metadata": {},
   "outputs": [
    {
     "name": "stdout",
     "output_type": "stream",
     "text": [
      "     Name  Age  Gender\n",
      "0   Alice   25  Female\n",
      "1     Bob   30    Male\n",
      "2  Claire   27  Female\n"
     ]
    }
   ],
   "source": [
    "import pandas as pd\n",
    "\n",
    "data = {'Name': ['Alice', 'Bob', 'Claire'],\n",
    "        'Age': [25, 30, 27],\n",
    "        'Gender': ['Female', 'Male', 'Female']}\n",
    "\n",
    "df = pd.DataFrame(data)\n",
    "print(df)\n"
   ]
  },
  {
   "cell_type": "markdown",
   "id": "6d93af6f-c0ed-46d0-99ab-f0d2c65c22ab",
   "metadata": {},
   "source": [
    "Q4. What is ‘DataFrame’ in pandas and how is it different from pandas.series? Explain with an example."
   ]
  },
  {
   "cell_type": "markdown",
   "id": "2bfbedfa-6475-4eb6-8e0a-ddf83db3518c",
   "metadata": {},
   "source": [
    "A DataFrame is a 2-dimensional data structure in pandas that allows for easy manipulation and analysis of data. It is essentially a table with rows and columns, where each column can have a different data type (e.g. integer, float, string, etc.).\n",
    "\n",
    "On the other hand, a Series is a 1-dimensional data structure in pandas that can be thought of as a single column of a DataFrame. It also allows for manipulation and analysis of data but it only has one axis, unlike a DataFrame."
   ]
  },
  {
   "cell_type": "code",
   "execution_count": 4,
   "id": "ff06c954-0f78-40e8-a601-dc1e46d068a1",
   "metadata": {},
   "outputs": [
    {
     "name": "stdout",
     "output_type": "stream",
     "text": [
      "0     4\n",
      "1     8\n",
      "2    15\n",
      "3    16\n",
      "4    23\n",
      "5    42\n",
      "dtype: int64\n"
     ]
    }
   ],
   "source": [
    "import pandas as pd\n",
    "\n",
    "data = [4, 8, 15, 16, 23, 42]\n",
    "series = pd.Series(data)\n",
    "print(series)\n"
   ]
  },
  {
   "cell_type": "code",
   "execution_count": 5,
   "id": "401031a5-3cf7-400f-bf17-4860d9bc64d9",
   "metadata": {},
   "outputs": [
    {
     "name": "stdout",
     "output_type": "stream",
     "text": [
      "     Name  Age  Gender\n",
      "0   Alice   25  Female\n",
      "1     Bob   30    Male\n",
      "2  Claire   27  Female\n"
     ]
    }
   ],
   "source": [
    "import pandas as pd\n",
    "\n",
    "data = {'Name': ['Alice', 'Bob', 'Claire'],\n",
    "        'Age': [25, 30, 27],\n",
    "        'Gender': ['Female', 'Male', 'Female']}\n",
    "\n",
    "df = pd.DataFrame(data)\n",
    "print(df)"
   ]
  },
  {
   "cell_type": "markdown",
   "id": "f2ee1893-880d-449d-bf2a-f2f110dd5405",
   "metadata": {},
   "source": [
    "Q5. What are some common functions you can use to manipulate data in a Pandas DataFrame? Can\n",
    "you give an example of when you might use one of these functions?"
   ]
  },
  {
   "cell_type": "markdown",
   "id": "aad69fbb-ff48-4d26-83a0-41d9fe9fd5a5",
   "metadata": {},
   "source": [
    "Pandas is a popular library for data manipulation and analysis. It offers a wide range of functions for handling tabular data, including the DataFrame object. Some common functions you can use to manipulate data in a Pandas DataFrame include:\n",
    "\n",
    "    drop(): This function allows you to remove one or more rows or columns from a DataFrame based on labels or indices. For example, you might use this function to remove a column that contains irrelevant or redundant data, or to remove rows with missing data.\n",
    "\n",
    "    merge(): This function allows you to combine two or more DataFrames based on a common key or column. For example, you might use this function to join customer and order data based on a shared customer ID column.\n",
    "\n",
    "    groupby(): This function allows you to group the data in a DataFrame based on one or more columns and apply a function to each group. For example, you might use this function to group sales data by product category and calculate the total sales for each category.\n",
    "\n",
    "    pivot_table(): This function allows you to create a summary table of a DataFrame based on one or more columns. For example, you might use this function to create a table that shows the average sales for each product category in each region.\n",
    "\n",
    "    apply(): This function allows you to apply a function to each element or row/column of a DataFrame. For example, you might use this function to calculate the square root of each value in a column.\n",
    "\n",
    "    fillna(): This function allows you to fill in missing values in a DataFrame with a specified value or method. For example, you might use this function to fill in missing sales data with the average sales for that product.\n",
    "\n",
    "    sort_values(): This function allows you to sort the rows of a DataFrame based on one or more columns. For example, you might use this function to sort a DataFrame of customer data based on the customers' last names.\n",
    "\n",
    "Overall, these functions (and many more) allow you to manipulate and transform data in a variety of ways to gain insights and draw conclusions from your data"
   ]
  },
  {
   "cell_type": "markdown",
   "id": "4839f583-4e37-48a8-acab-9f8d6a53ae3a",
   "metadata": {},
   "source": [
    "Q6. Which of the following is mutable in nature Series, DataFrame, Panel?"
   ]
  },
  {
   "cell_type": "code",
   "execution_count": null,
   "id": "670dbd05-2839-4a44-8cdc-8d13d197d8f0",
   "metadata": {},
   "outputs": [],
   "source": []
  }
 ],
 "metadata": {
  "kernelspec": {
   "display_name": "Python 3 (ipykernel)",
   "language": "python",
   "name": "python3"
  },
  "language_info": {
   "codemirror_mode": {
    "name": "ipython",
    "version": 3
   },
   "file_extension": ".py",
   "mimetype": "text/x-python",
   "name": "python",
   "nbconvert_exporter": "python",
   "pygments_lexer": "ipython3",
   "version": "3.10.6"
  }
 },
 "nbformat": 4,
 "nbformat_minor": 5
}
